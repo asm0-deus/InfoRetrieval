{
  "nbformat": 4,
  "nbformat_minor": 0,
  "metadata": {
    "colab": {
      "name": "IR_project.ipynb",
      "provenance": []
    },
    "kernelspec": {
      "name": "python3",
      "display_name": "Python 3"
    },
    "language_info": {
      "name": "python"
    }
  },
  "cells": [
    {
      "cell_type": "code",
      "execution_count": null,
      "metadata": {
        "id": "BLpDk8HggBZx",
        "colab": {
          "base_uri": "https://localhost:8080/"
        },
        "outputId": "4a87be26-0124-44d2-f029-5f04a3fefd1b"
      },
      "outputs": [
        {
          "output_type": "stream",
          "name": "stdout",
          "text": [
            "Mounted at /content/drive\n"
          ]
        }
      ],
      "source": [
        "from google.colab import drive\n",
        "drive.mount(\"/content/drive\")"
      ]
    },
    {
      "cell_type": "code",
      "source": [
        "import json\n",
        "tweets = []\n",
        "for line in open(\"/content/drive/MyDrive/My Work/IR/train.jsonl\", 'r'):\n",
        "    tweets.append(json.loads(line))\n",
        "print(len(tweets))"
      ],
      "metadata": {
        "colab": {
          "base_uri": "https://localhost:8080/"
        },
        "id": "FuibsbFQhy1k",
        "outputId": "4e8f5129-3c49-419c-a880-1e0e991ce955"
      },
      "execution_count": null,
      "outputs": [
        {
          "output_type": "stream",
          "name": "stdout",
          "text": [
            "145449\n"
          ]
        }
      ]
    },
    {
      "cell_type": "code",
      "source": [
        "print(tweets[0])"
      ],
      "metadata": {
        "colab": {
          "base_uri": "https://localhost:8080/"
        },
        "id": "YNzRR8beivbE",
        "outputId": "766fc6a9-d174-43ec-deed-9d1df7993ca1"
      },
      "execution_count": null,
      "outputs": [
        {
          "output_type": "stream",
          "name": "stdout",
          "text": [
            "{'id': 75397, 'verifiable': 'VERIFIABLE', 'label': 'SUPPORTS', 'claim': 'Nikolaj Coster-Waldau worked with the Fox Broadcasting Company.', 'evidence': [[[92206, 104971, 'Nikolaj_Coster-Waldau', 7], [92206, 104971, 'Fox_Broadcasting_Company', 0]]]}\n"
          ]
        }
      ]
    },
    {
      "cell_type": "code",
      "source": [
        "evidence = []\n",
        "for t in tweets:\n",
        "  evidence.append(t['evidence'])\n",
        "print(evidence[0])"
      ],
      "metadata": {
        "colab": {
          "base_uri": "https://localhost:8080/"
        },
        "id": "sLDpSA8Djwij",
        "outputId": "6bec0f95-e80a-4864-9f95-f4b6112d529a"
      },
      "execution_count": null,
      "outputs": [
        {
          "output_type": "stream",
          "name": "stdout",
          "text": [
            "[[[92206, 104971, 'Nikolaj_Coster-Waldau', 7], [92206, 104971, 'Fox_Broadcasting_Company', 0]]]\n"
          ]
        }
      ]
    },
    {
      "cell_type": "code",
      "source": [
        "claim = []\n",
        "for t in tweets:\n",
        "  claim.append(t['claim'])\n",
        "print(claim[0])"
      ],
      "metadata": {
        "colab": {
          "base_uri": "https://localhost:8080/"
        },
        "id": "6CMPSxpKkATu",
        "outputId": "67222f0d-578c-4d6b-c612-1a2bba9e332b"
      },
      "execution_count": null,
      "outputs": [
        {
          "output_type": "stream",
          "name": "stdout",
          "text": [
            "Nikolaj Coster-Waldau worked with the Fox Broadcasting Company.\n"
          ]
        }
      ]
    },
    {
      "cell_type": "code",
      "source": [
        "with open('claim.txt', 'w') as f:\n",
        "    for item in claim:\n",
        "        f.write(\"%s\\n\" % item)"
      ],
      "metadata": {
        "id": "jwiDEqitkS4S"
      },
      "execution_count": null,
      "outputs": []
    },
    {
      "cell_type": "code",
      "source": [
        "id = []\n",
        "for t in tweets:\n",
        "  id.append(t['id'])\n",
        "print(id[0])"
      ],
      "metadata": {
        "colab": {
          "base_uri": "https://localhost:8080/"
        },
        "id": "fUVer1Z3kiqb",
        "outputId": "73cdf41e-a336-45ef-8294-738debf6f05a"
      },
      "execution_count": null,
      "outputs": [
        {
          "output_type": "stream",
          "name": "stdout",
          "text": [
            "75397\n"
          ]
        }
      ]
    },
    {
      "cell_type": "code",
      "source": [
        "with open('id.txt', 'w') as f:\n",
        "    for item in id:\n",
        "        f.write(\"%s\\n\" % item)"
      ],
      "metadata": {
        "id": "OEtxxoNVknRT"
      },
      "execution_count": null,
      "outputs": []
    },
    {
      "cell_type": "code",
      "source": [
        "verifiable_ids = []\n",
        "non_verifiable_ids = []\n",
        "for t in tweets:\n",
        "  if t[\"verifiable\"] == \"VERIFIABLE\":\n",
        "    verifiable_ids.append(t['id'])\n",
        "  else:\n",
        "    non_verifiable_ids.append(t['id'])"
      ],
      "metadata": {
        "id": "ueCUdHGVlKkV"
      },
      "execution_count": null,
      "outputs": []
    },
    {
      "cell_type": "code",
      "source": [
        "with open('verifiable_ids.txt', 'w') as f:\n",
        "    for item in verifiable_ids:\n",
        "        f.write(\"%s\\n\" % item)\n",
        "with open('non_verifiable_ids.txt', 'w') as f:\n",
        "    for item in non_verifiable_ids:\n",
        "        f.write(\"%s\\n\" % item)"
      ],
      "metadata": {
        "id": "SXmsazqBlzDt"
      },
      "execution_count": null,
      "outputs": []
    },
    {
      "cell_type": "code",
      "source": [
        "label = []\n",
        "for t in tweets:\n",
        "  label.append(t['label'])\n",
        "print(label[0])\n",
        "with open('label.txt', 'w') as f:\n",
        "    for item in label:\n",
        "        f.write(\"%s\\n\" % item)"
      ],
      "metadata": {
        "colab": {
          "base_uri": "https://localhost:8080/"
        },
        "id": "OJVZM3xGnPJ7",
        "outputId": "61f33d8b-882f-4a87-fc86-679c137a2b5a"
      },
      "execution_count": null,
      "outputs": [
        {
          "output_type": "stream",
          "name": "stdout",
          "text": [
            "SUPPORTS\n"
          ]
        }
      ]
    },
    {
      "cell_type": "code",
      "source": [
        "evidence = []\n",
        "for t in tweets:\n",
        "  evidence.append(t['evidence'])\n",
        "print(evidence[0])\n",
        "with open('evidence.txt', 'w') as f:\n",
        "    for item in evidence:\n",
        "        f.write(\"%s\\n\" % item)"
      ],
      "metadata": {
        "colab": {
          "base_uri": "https://localhost:8080/"
        },
        "id": "BU3RQrvFngGs",
        "outputId": "2271b383-c5b0-4606-f67b-4bc2346dd99b"
      },
      "execution_count": null,
      "outputs": [
        {
          "output_type": "stream",
          "name": "stdout",
          "text": [
            "[[[92206, 104971, 'Nikolaj_Coster-Waldau', 7], [92206, 104971, 'Fox_Broadcasting_Company', 0]]]\n"
          ]
        }
      ]
    },
    {
      "cell_type": "code",
      "source": [
        "import nltk\n",
        "nltk.download('punkt') # For tokenizers\n",
        "from nltk.tokenize import word_tokenize,sent_tokenize\n",
        "claim_file = open(\"claim.txt\").read()\n",
        "tokenizer = nltk.tokenize.punkt.PunktSentenceTokenizer()\n",
        "tokenizer.tokenize(claim_file)\n",
        "sents = nltk.sent_tokenize(claim_file)\n",
        "words = nltk.word_tokenize(claim_file)\n",
        "print(len(words))\n",
        "print(len(sents))"
      ],
      "metadata": {
        "colab": {
          "base_uri": "https://localhost:8080/"
        },
        "id": "SZOMFVv43Mcu",
        "outputId": "0faeafac-90ef-44ba-c9d2-5441d44466d9"
      },
      "execution_count": null,
      "outputs": [
        {
          "output_type": "stream",
          "name": "stdout",
          "text": [
            "[nltk_data] Downloading package punkt to /root/nltk_data...\n",
            "[nltk_data]   Package punkt is already up-to-date!\n",
            "1361396\n",
            "145754\n"
          ]
        }
      ]
    },
    {
      "cell_type": "code",
      "source": [
        "for i in range(5):\n",
        "  print(sents[i])\n",
        "words=[word.lower() for word in words if word.isalpha()]\n",
        "print(words[:5])"
      ],
      "metadata": {
        "colab": {
          "base_uri": "https://localhost:8080/"
        },
        "id": "VqYsHRSO9G-x",
        "outputId": "60f5ab82-f57b-48f0-8da7-2f600b744707"
      },
      "execution_count": null,
      "outputs": [
        {
          "output_type": "stream",
          "name": "stdout",
          "text": [
            "Nikolaj Coster-Waldau worked with the Fox Broadcasting Company.\n",
            "Roman Atwood is a content creator.\n",
            "History of art includes architecture, dance, sculpture, music, painting, poetry literature, theatre, narrative, film, photography and graphic arts.\n",
            "Adrienne Bailon is an accountant.\n",
            "System of a Down briefly disbanded in limbo.\n",
            "['nikolaj', 'worked', 'with', 'the', 'fox']\n"
          ]
        }
      ]
    },
    {
      "cell_type": "code",
      "source": [
        "nltk.download('stopwords')\n",
        "from nltk.corpus import stopwords"
      ],
      "metadata": {
        "colab": {
          "base_uri": "https://localhost:8080/"
        },
        "id": "zajHZ3fI5z72",
        "outputId": "60eb6429-2950-4637-c579-c92a72f79ead"
      },
      "execution_count": null,
      "outputs": [
        {
          "output_type": "stream",
          "name": "stdout",
          "text": [
            "[nltk_data] Downloading package stopwords to /root/nltk_data...\n",
            "[nltk_data]   Unzipping corpora/stopwords.zip.\n"
          ]
        }
      ]
    },
    {
      "cell_type": "code",
      "source": [
        "print(\"The average number of tokens per sentence: \",round(len(words) / len(sents)))\n",
        "stop_words = set(stopwords.words('english'))\n",
        "final_tokens = []\n",
        "ans = []\n",
        "\n",
        "\n",
        "for each in words:\n",
        "  if each not in stop_words:\n",
        "    final_tokens.append(each)\n",
        "\n",
        "print(\"The number of unique tokens in the corpus, after stopword removal using the stopwords from NLTK \", len(final_tokens))"
      ],
      "metadata": {
        "colab": {
          "base_uri": "https://localhost:8080/"
        },
        "id": "d48PlM317H2B",
        "outputId": "b5c15d3c-0380-40ff-94a0-eea3e13e2662"
      },
      "execution_count": null,
      "outputs": [
        {
          "output_type": "stream",
          "name": "stdout",
          "text": [
            "The average number of tokens per sentence:  8\n",
            "The number of unique tokens in the corpus, after stopword removal using the stopwords from NLTK  724076\n"
          ]
        }
      ]
    },
    {
      "cell_type": "code",
      "source": [
        "print(sents[0])"
      ],
      "metadata": {
        "colab": {
          "base_uri": "https://localhost:8080/"
        },
        "id": "_Q9HjJ-2K5y1",
        "outputId": "1222a3e1-04a4-45a2-e54d-046d8ab58c55"
      },
      "execution_count": null,
      "outputs": [
        {
          "output_type": "stream",
          "name": "stdout",
          "text": [
            "Nikolaj Coster-Waldau worked with the Fox Broadcasting Company.\n"
          ]
        }
      ]
    },
    {
      "cell_type": "code",
      "source": [
        "nltk.download('wordnet')\n",
        "from nltk.stem import WordNetLemmatizer\n",
        "\n",
        "lemmatizer = WordNetLemmatizer()\n",
        "\n",
        "def lemSentence(sentence):\n",
        "    lem_sentence = \"\"\n",
        "    for word in sentence:\n",
        "        lem_sentence = lem_sentence+(lemmatizer.lemmatize(word))\n",
        "    return lem_sentence\n",
        "\n",
        "for i in range(len(sents)):\n",
        "  sents[i] = lemSentence(sents[i])\n",
        "print(sents[:5])"
      ],
      "metadata": {
        "colab": {
          "base_uri": "https://localhost:8080/"
        },
        "id": "1JWeLekY_gt2",
        "outputId": "41db9cb5-da6a-488f-fdfd-0fda4ff8be79"
      },
      "execution_count": null,
      "outputs": [
        {
          "output_type": "stream",
          "name": "stdout",
          "text": [
            "[nltk_data] Downloading package wordnet to /root/nltk_data...\n",
            "[nltk_data]   Package wordnet is already up-to-date!\n",
            "['Nikolaj Coster-Waldau worked with the Fox Broadcasting Company.', 'Roman Atwood is a content creator.', 'History of art includes architecture, dance, sculpture, music, painting, poetry literature, theatre, narrative, film, photography and graphic arts.', 'Adrienne Bailon is an accountant.', 'System of a Down briefly disbanded in limbo.']\n"
          ]
        }
      ]
    }
  ]
}